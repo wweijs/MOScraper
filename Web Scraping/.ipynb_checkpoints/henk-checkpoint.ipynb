{
 "cells": [
  {
   "cell_type": "code",
   "execution_count": 1,
   "id": "22ef53dd-4c16-4178-ac0c-ba88306c93be",
   "metadata": {
    "execution": {
     "iopub.execute_input": "2025-01-06T10:30:36.872267Z",
     "iopub.status.busy": "2025-01-06T10:30:36.872120Z",
     "iopub.status.idle": "2025-01-06T10:32:44.998774Z",
     "shell.execute_reply": "2025-01-06T10:32:44.997731Z"
    }
   },
   "outputs": [
    {
     "name": "stdout",
     "output_type": "stream",
     "text": [
      "Scraping data from https://www.action.com/nl-nl/search/?q=choco+moment\n"
     ]
    },
    {
     "name": "stdout",
     "output_type": "stream",
     "text": [
      "Scraping data from https://www.action.com/nl-nl/search/?q=snacks+of+the+world\n"
     ]
    },
    {
     "name": "stdout",
     "output_type": "stream",
     "text": [
      "No cookies popup found.\n"
     ]
    },
    {
     "name": "stdout",
     "output_type": "stream",
     "text": [
      "Scraping data from https://www.action.com/nl-nl/search/?q=natural+happiness\n"
     ]
    },
    {
     "name": "stdout",
     "output_type": "stream",
     "text": [
      "No cookies popup found.\n"
     ]
    },
    {
     "name": "stdout",
     "output_type": "stream",
     "text": [
      "Scraping data from https://www.action.com/fr-fr/search/?q=choco+moment\n"
     ]
    },
    {
     "name": "stdout",
     "output_type": "stream",
     "text": [
      "No cookies popup found.\n"
     ]
    },
    {
     "name": "stdout",
     "output_type": "stream",
     "text": [
      "Scraping data from https://www.action.com/fr-fr/search/?q=snacks+of+the+world\n"
     ]
    },
    {
     "name": "stdout",
     "output_type": "stream",
     "text": [
      "No cookies popup found.\n"
     ]
    },
    {
     "name": "stdout",
     "output_type": "stream",
     "text": [
      "Scraping data from https://www.action.com/fr-fr/search/?q=natural+happiness\n"
     ]
    },
    {
     "name": "stdout",
     "output_type": "stream",
     "text": [
      "No cookies popup found.\n"
     ]
    },
    {
     "name": "stdout",
     "output_type": "stream",
     "text": [
      "Scraping data from https://www.action.com/de-de/search/?q=choco+moment\n"
     ]
    },
    {
     "name": "stdout",
     "output_type": "stream",
     "text": [
      "No cookies popup found.\n"
     ]
    },
    {
     "name": "stdout",
     "output_type": "stream",
     "text": [
      "Scraping data from https://www.action.com/de-de/search/?q=snacks+of+the+world\n"
     ]
    },
    {
     "name": "stdout",
     "output_type": "stream",
     "text": [
      "No cookies popup found.\n"
     ]
    },
    {
     "name": "stdout",
     "output_type": "stream",
     "text": [
      "Scraping data from https://www.action.com/de-de/search/?q=natural+happiness\n"
     ]
    },
    {
     "name": "stdout",
     "output_type": "stream",
     "text": [
      "No cookies popup found.\n"
     ]
    },
    {
     "name": "stdout",
     "output_type": "stream",
     "text": [
      "Data has been successfully saved to Action_data.xlsx\n"
     ]
    }
   ],
   "source": [
    "from selenium import webdriver\n",
    "from selenium.webdriver.chrome.options import Options\n",
    "from webdriver_manager.chrome import ChromeDriverManager\n",
    "from bs4 import BeautifulSoup\n",
    "from selenium.webdriver.common.by import By\n",
    "from selenium.webdriver.support.ui import WebDriverWait\n",
    "from selenium.webdriver.support import expected_conditions as EC\n",
    "import time\n",
    "import pandas as pd\n",
    "from datetime import datetime\n",
    "from selenium.webdriver.chrome.service import Service\n",
    "\n",
    "# Initialize Chrome driver with Service\n",
    "chrome_options = Options()\n",
    "chrome_options.add_argument(\"--headless\")  # Run in headless mode (no GUI)\n",
    "chrome_options.add_argument(\"--no-sandbox\")\n",
    "chrome_options.add_argument(\"--disable-dev-shm-usage\")\n",
    "\n",
    "driver = webdriver.Chrome(service=Service(ChromeDriverManager().install()), options=chrome_options)\n",
    "\n",
    "# List of URLs to scrape\n",
    "urls = [\n",
    "    \"https://www.action.com/nl-nl/search/?q=choco+moment\",\n",
    "    \"https://www.action.com/nl-nl/search/?q=snacks+of+the+world\",\n",
    "    \"https://www.action.com/nl-nl/search/?q=natural+happiness\",\n",
    "    \"https://www.action.com/fr-fr/search/?q=choco+moment\",\n",
    "    \"https://www.action.com/fr-fr/search/?q=snacks+of+the+world\",\n",
    "    \"https://www.action.com/fr-fr/search/?q=natural+happiness\",\n",
    "    \"https://www.action.com/de-de/search/?q=choco+moment\",\n",
    "    \"https://www.action.com/de-de/search/?q=snacks+of+the+world\",\n",
    "    \"https://www.action.com/de-de/search/?q=natural+happiness\"\n",
    "]\n",
    "\n",
    "# List to store all product data\n",
    "all_products = []\n",
    "\n",
    "# Loop through all URLs\n",
    "for url in urls:\n",
    "    print(f\"Scraping data from {url}\")\n",
    "    \n",
    "    driver.get(url)\n",
    "    time.sleep(5)\n",
    "\n",
    "    # Accept cookies if the popup appears\n",
    "    try:\n",
    "        accept_button = WebDriverWait(driver, 3).until(\n",
    "            EC.element_to_be_clickable((By.ID, \"CybotCookiebotDialogBodyLevelButtonLevelOptinDeclineAll\"))\n",
    "        )\n",
    "        accept_button.click()\n",
    "    except Exception as e:\n",
    "        print(\"No cookies popup found.\")\n",
    "    \n",
    "    time.sleep(5)\n",
    "    \n",
    "    # Parse the page source with BeautifulSoup\n",
    "    html = driver.page_source\n",
    "    soup = BeautifulSoup(html, \"html.parser\")\n",
    "\n",
    "    # List to store extracted product information for this URL\n",
    "    products = []\n",
    "\n",
    "    # Loop through all product articles\n",
    "    for article in soup.find_all('article', {'data-testid': 'product-card'}):\n",
    "        # Extract product title\n",
    "        title_tag = article.find('p', {'data-testid': 'product-card-title'})\n",
    "        title = title_tag.get_text(strip=True) if title_tag else 'Title not found'\n",
    "\n",
    "        # Extract product description (optional)\n",
    "        description_tag = article.find('p', {'data-testid': 'product-card-description'})\n",
    "        description = description_tag.get_text(strip=True) if description_tag else 'Description not found'\n",
    "\n",
    "        # Extract price whole part\n",
    "        price_whole_tag = article.find('span', {'data-testid': 'product-card-price-whole'})\n",
    "        price_whole = price_whole_tag.get_text(strip=True) if price_whole_tag else '0'\n",
    "\n",
    "        # Extract price fractional part\n",
    "        price_fractional_tag = article.find('span', {'data-testid': 'product-card-price-fractional'})\n",
    "        price_fractional = price_fractional_tag.get_text(strip=True) if price_fractional_tag else '00'\n",
    "\n",
    "        # Combine whole and fractional prices\n",
    "        price = f\"{price_whole}.{price_fractional}\"\n",
    "\n",
    "        # Extract priceperkilo (if available)\n",
    "        priceperkilo_tag = article.find('span', {'data-testid': 'product-card-price-description'})\n",
    "        priceperkilo = priceperkilo_tag.get_text(strip=True) if priceperkilo_tag else 'Weight not found'\n",
    "\n",
    "        # Store product details for this URL\n",
    "        products.append({\n",
    "            'Product Title': title,\n",
    "            'Description': description,\n",
    "            'Price (€)': price,\n",
    "            'Price Per Kilo': priceperkilo\n",
    "        })\n",
    "\n",
    "    # Add the current URL and timestamp to each product\n",
    "    timestamp = datetime.now().strftime('%Y-%m-%d')\n",
    "    for product in products:\n",
    "        product['Timestamp'] = timestamp\n",
    "\n",
    "    # Add the products for this URL to the overall list\n",
    "    all_products.extend(products)\n",
    "\n",
    "# Convert to DataFrame\n",
    "df = pd.DataFrame(all_products)\n",
    "\n",
    "# Save to Excel file\n",
    "excel_filename = 'Action_data.xlsx'\n",
    "df.to_excel(excel_filename, index=False, engine='openpyxl')\n",
    "print(f\"Data has been successfully saved to {excel_filename}\")\n",
    "\n",
    "# Close the driver\n",
    "driver.quit()\n"
   ]
  }
 ],
 "metadata": {
  "kernelspec": {
   "display_name": "Python 3 (ipykernel)",
   "language": "python",
   "name": "python3"
  },
  "language_info": {
   "codemirror_mode": {
    "name": "ipython",
    "version": 3
   },
   "file_extension": ".py",
   "mimetype": "text/x-python",
   "name": "python",
   "nbconvert_exporter": "python",
   "pygments_lexer": "ipython3",
   "version": "3.13.1"
  }
 },
 "nbformat": 4,
 "nbformat_minor": 5
}
